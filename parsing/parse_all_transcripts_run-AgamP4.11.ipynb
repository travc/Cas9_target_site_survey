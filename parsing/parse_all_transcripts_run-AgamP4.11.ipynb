{
 "cells": [
  {
   "cell_type": "code",
   "execution_count": 1,
   "metadata": {
    "ExecuteTime": {
     "end_time": "2019-03-22T23:07:55.860082Z",
     "start_time": "2019-03-22T23:07:55.304354Z"
    }
   },
   "outputs": [],
   "source": [
    "import sys\n",
    "import os\n",
    "import numpy as np\n",
    "import pandas as pd\n",
    "\n",
    "import subprocess\n",
    "\n",
    "import matplotlib as mpl\n",
    "import matplotlib.pyplot as plt\n",
    "\n",
    "from IPython.display import display\n",
    "from ipywidgets import IntProgress"
   ]
  },
  {
   "cell_type": "code",
   "execution_count": 2,
   "metadata": {
    "ExecuteTime": {
     "end_time": "2019-03-22T23:07:56.504906Z",
     "start_time": "2019-03-22T23:07:56.501398Z"
    },
    "scrolled": true
   },
   "outputs": [
    {
     "name": "stdout",
     "output_type": "stream",
     "text": [
      "3.6.7 | packaged by conda-forge | (default, Feb 28 2019, 09:07:38) \n",
      "[GCC 7.3.0]\n"
     ]
    }
   ],
   "source": [
    "print(sys.version)\n",
    "mpl.rcParams['figure.facecolor'] = '#BBBBBB'\n"
   ]
  },
  {
   "cell_type": "code",
   "execution_count": 3,
   "metadata": {
    "ExecuteTime": {
     "end_time": "2019-03-22T23:07:57.539918Z",
     "start_time": "2019-03-22T23:07:57.536838Z"
    }
   },
   "outputs": [],
   "source": [
    "GENOME = \"AgamP4.11\"\n",
    "GENE_PREFIX = \"AGAP\"\n",
    "\n",
    "TRANSFN = \"../datafiles/transcript_list_{}\".format(GENOME)\n",
    "CHOPCHOP_OUT_DIR = \"../all_transcripts_run/\".format(GENOME)\n",
    "\n",
    "MIN_GC = 30 # minimum allowable GC percentage (inclusive)\n",
    "MAX_GC = 70 # maximum allowable GC percentage (inclusive)\n",
    "MAX_OFFTARGET_HITS = 0 # maximum allowable total offtarget hits"
   ]
  },
  {
   "cell_type": "code",
   "execution_count": null,
   "metadata": {},
   "outputs": [],
   "source": []
  },
  {
   "cell_type": "code",
   "execution_count": 4,
   "metadata": {
    "ExecuteTime": {
     "end_time": "2019-03-22T23:07:59.208489Z",
     "start_time": "2019-03-22T23:07:59.189991Z"
    }
   },
   "outputs": [],
   "source": [
    "tlist = pd.read_csv(TRANSFN, header=None, names=['transcript_id'])"
   ]
  },
  {
   "cell_type": "code",
   "execution_count": 5,
   "metadata": {
    "ExecuteTime": {
     "end_time": "2019-03-22T23:08:01.331859Z",
     "start_time": "2019-03-22T23:08:01.276707Z"
    },
    "scrolled": true
   },
   "outputs": [
    {
     "data": {
      "text/html": [
       "<div>\n",
       "<style scoped>\n",
       "    .dataframe tbody tr th:only-of-type {\n",
       "        vertical-align: middle;\n",
       "    }\n",
       "\n",
       "    .dataframe tbody tr th {\n",
       "        vertical-align: top;\n",
       "    }\n",
       "\n",
       "    .dataframe thead th {\n",
       "        text-align: right;\n",
       "    }\n",
       "</style>\n",
       "<table border=\"1\" class=\"dataframe\">\n",
       "  <thead>\n",
       "    <tr style=\"text-align: right;\">\n",
       "      <th></th>\n",
       "      <th>transcript_id</th>\n",
       "      <th>gene</th>\n",
       "      <th>splice_id</th>\n",
       "    </tr>\n",
       "  </thead>\n",
       "  <tbody>\n",
       "    <tr>\n",
       "      <th>0</th>\n",
       "      <td>AGAP004677-RB</td>\n",
       "      <td>AGAP004677</td>\n",
       "      <td>RB</td>\n",
       "    </tr>\n",
       "    <tr>\n",
       "      <th>1</th>\n",
       "      <td>AGAP004677-RA</td>\n",
       "      <td>AGAP004677</td>\n",
       "      <td>RA</td>\n",
       "    </tr>\n",
       "    <tr>\n",
       "      <th>2</th>\n",
       "      <td>AGAP004678-RA</td>\n",
       "      <td>AGAP004678</td>\n",
       "      <td>RA</td>\n",
       "    </tr>\n",
       "    <tr>\n",
       "      <th>3</th>\n",
       "      <td>AGAP004679-RB</td>\n",
       "      <td>AGAP004679</td>\n",
       "      <td>RB</td>\n",
       "    </tr>\n",
       "    <tr>\n",
       "      <th>4</th>\n",
       "      <td>AGAP004679-RA</td>\n",
       "      <td>AGAP004679</td>\n",
       "      <td>RA</td>\n",
       "    </tr>\n",
       "    <tr>\n",
       "      <th>5</th>\n",
       "      <td>AGAP004680-RA</td>\n",
       "      <td>AGAP004680</td>\n",
       "      <td>RA</td>\n",
       "    </tr>\n",
       "    <tr>\n",
       "      <th>6</th>\n",
       "      <td>AGAP004681-RA</td>\n",
       "      <td>AGAP004681</td>\n",
       "      <td>RA</td>\n",
       "    </tr>\n",
       "    <tr>\n",
       "      <th>7</th>\n",
       "      <td>AGAP004682-RA</td>\n",
       "      <td>AGAP004682</td>\n",
       "      <td>RA</td>\n",
       "    </tr>\n",
       "    <tr>\n",
       "      <th>8</th>\n",
       "      <td>AGAP028431-RA</td>\n",
       "      <td>AGAP028431</td>\n",
       "      <td>RA</td>\n",
       "    </tr>\n",
       "    <tr>\n",
       "      <th>9</th>\n",
       "      <td>AGAP004683-RA</td>\n",
       "      <td>AGAP004683</td>\n",
       "      <td>RA</td>\n",
       "    </tr>\n",
       "    <tr>\n",
       "      <th>10</th>\n",
       "      <td>AGAP004684-RA</td>\n",
       "      <td>AGAP004684</td>\n",
       "      <td>RA</td>\n",
       "    </tr>\n",
       "    <tr>\n",
       "      <th>11</th>\n",
       "      <td>AGAP004685-RA</td>\n",
       "      <td>AGAP004685</td>\n",
       "      <td>RA</td>\n",
       "    </tr>\n",
       "    <tr>\n",
       "      <th>12</th>\n",
       "      <td>AGAP004685-RB</td>\n",
       "      <td>AGAP004685</td>\n",
       "      <td>RB</td>\n",
       "    </tr>\n",
       "    <tr>\n",
       "      <th>13</th>\n",
       "      <td>AGAP004686-RA</td>\n",
       "      <td>AGAP004686</td>\n",
       "      <td>RA</td>\n",
       "    </tr>\n",
       "    <tr>\n",
       "      <th>14</th>\n",
       "      <td>AGAP004687-RA</td>\n",
       "      <td>AGAP004687</td>\n",
       "      <td>RA</td>\n",
       "    </tr>\n",
       "    <tr>\n",
       "      <th>15</th>\n",
       "      <td>AGAP028432-RA</td>\n",
       "      <td>AGAP028432</td>\n",
       "      <td>RA</td>\n",
       "    </tr>\n",
       "    <tr>\n",
       "      <th>16</th>\n",
       "      <td>AGAP004688-RA</td>\n",
       "      <td>AGAP004688</td>\n",
       "      <td>RA</td>\n",
       "    </tr>\n",
       "    <tr>\n",
       "      <th>17</th>\n",
       "      <td>AGAP004689-RA</td>\n",
       "      <td>AGAP004689</td>\n",
       "      <td>RA</td>\n",
       "    </tr>\n",
       "    <tr>\n",
       "      <th>18</th>\n",
       "      <td>AGAP004689-RB</td>\n",
       "      <td>AGAP004689</td>\n",
       "      <td>RB</td>\n",
       "    </tr>\n",
       "    <tr>\n",
       "      <th>19</th>\n",
       "      <td>AGAP004689-RC</td>\n",
       "      <td>AGAP004689</td>\n",
       "      <td>RC</td>\n",
       "    </tr>\n",
       "    <tr>\n",
       "      <th>20</th>\n",
       "      <td>AGAP004690-RA</td>\n",
       "      <td>AGAP004690</td>\n",
       "      <td>RA</td>\n",
       "    </tr>\n",
       "    <tr>\n",
       "      <th>21</th>\n",
       "      <td>AGAP029344-RA</td>\n",
       "      <td>AGAP029344</td>\n",
       "      <td>RA</td>\n",
       "    </tr>\n",
       "    <tr>\n",
       "      <th>22</th>\n",
       "      <td>AGAP004691-RA</td>\n",
       "      <td>AGAP004691</td>\n",
       "      <td>RA</td>\n",
       "    </tr>\n",
       "    <tr>\n",
       "      <th>23</th>\n",
       "      <td>AGAP028433-RA</td>\n",
       "      <td>AGAP028433</td>\n",
       "      <td>RA</td>\n",
       "    </tr>\n",
       "    <tr>\n",
       "      <th>24</th>\n",
       "      <td>AGAP004692-RA</td>\n",
       "      <td>AGAP004692</td>\n",
       "      <td>RA</td>\n",
       "    </tr>\n",
       "    <tr>\n",
       "      <th>25</th>\n",
       "      <td>AGAP004692-RB</td>\n",
       "      <td>AGAP004692</td>\n",
       "      <td>RB</td>\n",
       "    </tr>\n",
       "    <tr>\n",
       "      <th>26</th>\n",
       "      <td>AGAP004692-RC</td>\n",
       "      <td>AGAP004692</td>\n",
       "      <td>RC</td>\n",
       "    </tr>\n",
       "    <tr>\n",
       "      <th>27</th>\n",
       "      <td>AGAP004692-RD</td>\n",
       "      <td>AGAP004692</td>\n",
       "      <td>RD</td>\n",
       "    </tr>\n",
       "    <tr>\n",
       "      <th>28</th>\n",
       "      <td>AGAP004693-RA</td>\n",
       "      <td>AGAP004693</td>\n",
       "      <td>RA</td>\n",
       "    </tr>\n",
       "    <tr>\n",
       "      <th>29</th>\n",
       "      <td>AGAP004694-RA</td>\n",
       "      <td>AGAP004694</td>\n",
       "      <td>RA</td>\n",
       "    </tr>\n",
       "    <tr>\n",
       "      <th>...</th>\n",
       "      <td>...</td>\n",
       "      <td>...</td>\n",
       "      <td>...</td>\n",
       "    </tr>\n",
       "    <tr>\n",
       "      <th>15682</th>\n",
       "      <td>AGAP001083-RA</td>\n",
       "      <td>AGAP001083</td>\n",
       "      <td>RA</td>\n",
       "    </tr>\n",
       "    <tr>\n",
       "      <th>15683</th>\n",
       "      <td>AGAP001083-RD</td>\n",
       "      <td>AGAP001083</td>\n",
       "      <td>RD</td>\n",
       "    </tr>\n",
       "    <tr>\n",
       "      <th>15684</th>\n",
       "      <td>AGAP001083-RB</td>\n",
       "      <td>AGAP001083</td>\n",
       "      <td>RB</td>\n",
       "    </tr>\n",
       "    <tr>\n",
       "      <th>15685</th>\n",
       "      <td>AGAP001083-RC</td>\n",
       "      <td>AGAP001083</td>\n",
       "      <td>RC</td>\n",
       "    </tr>\n",
       "    <tr>\n",
       "      <th>15686</th>\n",
       "      <td>AGAP001084-RA</td>\n",
       "      <td>AGAP001084</td>\n",
       "      <td>RA</td>\n",
       "    </tr>\n",
       "    <tr>\n",
       "      <th>15687</th>\n",
       "      <td>AGAP001085-RA</td>\n",
       "      <td>AGAP001085</td>\n",
       "      <td>RA</td>\n",
       "    </tr>\n",
       "    <tr>\n",
       "      <th>15688</th>\n",
       "      <td>AGAP013547-RA</td>\n",
       "      <td>AGAP013547</td>\n",
       "      <td>RA</td>\n",
       "    </tr>\n",
       "    <tr>\n",
       "      <th>15689</th>\n",
       "      <td>AGAP001087-RA</td>\n",
       "      <td>AGAP001087</td>\n",
       "      <td>RA</td>\n",
       "    </tr>\n",
       "    <tr>\n",
       "      <th>15690</th>\n",
       "      <td>AGAP028971-RA</td>\n",
       "      <td>AGAP028971</td>\n",
       "      <td>RA</td>\n",
       "    </tr>\n",
       "    <tr>\n",
       "      <th>15691</th>\n",
       "      <td>AGAP028970-RA</td>\n",
       "      <td>AGAP028970</td>\n",
       "      <td>RA</td>\n",
       "    </tr>\n",
       "    <tr>\n",
       "      <th>15692</th>\n",
       "      <td>AGAP028968-RA</td>\n",
       "      <td>AGAP028968</td>\n",
       "      <td>RA</td>\n",
       "    </tr>\n",
       "    <tr>\n",
       "      <th>15693</th>\n",
       "      <td>AGAP028976-RA</td>\n",
       "      <td>AGAP028976</td>\n",
       "      <td>RA</td>\n",
       "    </tr>\n",
       "    <tr>\n",
       "      <th>15694</th>\n",
       "      <td>AGAP028979-RA</td>\n",
       "      <td>AGAP028979</td>\n",
       "      <td>RA</td>\n",
       "    </tr>\n",
       "    <tr>\n",
       "      <th>15695</th>\n",
       "      <td>AGAP001088-RA</td>\n",
       "      <td>AGAP001088</td>\n",
       "      <td>RA</td>\n",
       "    </tr>\n",
       "    <tr>\n",
       "      <th>15696</th>\n",
       "      <td>AGAP001089-RA</td>\n",
       "      <td>AGAP001089</td>\n",
       "      <td>RA</td>\n",
       "    </tr>\n",
       "    <tr>\n",
       "      <th>15697</th>\n",
       "      <td>AGAP013341-RA</td>\n",
       "      <td>AGAP013341</td>\n",
       "      <td>RA</td>\n",
       "    </tr>\n",
       "    <tr>\n",
       "      <th>15698</th>\n",
       "      <td>AGAP001090-RA</td>\n",
       "      <td>AGAP001090</td>\n",
       "      <td>RA</td>\n",
       "    </tr>\n",
       "    <tr>\n",
       "      <th>15699</th>\n",
       "      <td>AGAP013312-RA</td>\n",
       "      <td>AGAP013312</td>\n",
       "      <td>RA</td>\n",
       "    </tr>\n",
       "    <tr>\n",
       "      <th>15700</th>\n",
       "      <td>AGAP001091-RB</td>\n",
       "      <td>AGAP001091</td>\n",
       "      <td>RB</td>\n",
       "    </tr>\n",
       "    <tr>\n",
       "      <th>15701</th>\n",
       "      <td>AGAP001091-RA</td>\n",
       "      <td>AGAP001091</td>\n",
       "      <td>RA</td>\n",
       "    </tr>\n",
       "    <tr>\n",
       "      <th>15702</th>\n",
       "      <td>AGAP001092-RA</td>\n",
       "      <td>AGAP001092</td>\n",
       "      <td>RA</td>\n",
       "    </tr>\n",
       "    <tr>\n",
       "      <th>15703</th>\n",
       "      <td>AGAP001093-RA</td>\n",
       "      <td>AGAP001093</td>\n",
       "      <td>RA</td>\n",
       "    </tr>\n",
       "    <tr>\n",
       "      <th>15704</th>\n",
       "      <td>AGAP001094-RA</td>\n",
       "      <td>AGAP001094</td>\n",
       "      <td>RA</td>\n",
       "    </tr>\n",
       "    <tr>\n",
       "      <th>15705</th>\n",
       "      <td>AGAP028966-RA</td>\n",
       "      <td>AGAP028966</td>\n",
       "      <td>RA</td>\n",
       "    </tr>\n",
       "    <tr>\n",
       "      <th>15706</th>\n",
       "      <td>AGAP028977-RA</td>\n",
       "      <td>AGAP028977</td>\n",
       "      <td>RA</td>\n",
       "    </tr>\n",
       "    <tr>\n",
       "      <th>15707</th>\n",
       "      <td>AGAP028980-RA</td>\n",
       "      <td>AGAP028980</td>\n",
       "      <td>RA</td>\n",
       "    </tr>\n",
       "    <tr>\n",
       "      <th>15708</th>\n",
       "      <td>AGAP028967-RA</td>\n",
       "      <td>AGAP028967</td>\n",
       "      <td>RA</td>\n",
       "    </tr>\n",
       "    <tr>\n",
       "      <th>15709</th>\n",
       "      <td>AGAP028974-RA</td>\n",
       "      <td>AGAP028974</td>\n",
       "      <td>RA</td>\n",
       "    </tr>\n",
       "    <tr>\n",
       "      <th>15710</th>\n",
       "      <td>AGAP029221-RA</td>\n",
       "      <td>AGAP029221</td>\n",
       "      <td>RA</td>\n",
       "    </tr>\n",
       "    <tr>\n",
       "      <th>15711</th>\n",
       "      <td>AGAP029375-RA</td>\n",
       "      <td>AGAP029375</td>\n",
       "      <td>RA</td>\n",
       "    </tr>\n",
       "  </tbody>\n",
       "</table>\n",
       "<p>15712 rows × 3 columns</p>\n",
       "</div>"
      ],
      "text/plain": [
       "       transcript_id        gene splice_id\n",
       "0      AGAP004677-RB  AGAP004677        RB\n",
       "1      AGAP004677-RA  AGAP004677        RA\n",
       "2      AGAP004678-RA  AGAP004678        RA\n",
       "3      AGAP004679-RB  AGAP004679        RB\n",
       "4      AGAP004679-RA  AGAP004679        RA\n",
       "5      AGAP004680-RA  AGAP004680        RA\n",
       "6      AGAP004681-RA  AGAP004681        RA\n",
       "7      AGAP004682-RA  AGAP004682        RA\n",
       "8      AGAP028431-RA  AGAP028431        RA\n",
       "9      AGAP004683-RA  AGAP004683        RA\n",
       "10     AGAP004684-RA  AGAP004684        RA\n",
       "11     AGAP004685-RA  AGAP004685        RA\n",
       "12     AGAP004685-RB  AGAP004685        RB\n",
       "13     AGAP004686-RA  AGAP004686        RA\n",
       "14     AGAP004687-RA  AGAP004687        RA\n",
       "15     AGAP028432-RA  AGAP028432        RA\n",
       "16     AGAP004688-RA  AGAP004688        RA\n",
       "17     AGAP004689-RA  AGAP004689        RA\n",
       "18     AGAP004689-RB  AGAP004689        RB\n",
       "19     AGAP004689-RC  AGAP004689        RC\n",
       "20     AGAP004690-RA  AGAP004690        RA\n",
       "21     AGAP029344-RA  AGAP029344        RA\n",
       "22     AGAP004691-RA  AGAP004691        RA\n",
       "23     AGAP028433-RA  AGAP028433        RA\n",
       "24     AGAP004692-RA  AGAP004692        RA\n",
       "25     AGAP004692-RB  AGAP004692        RB\n",
       "26     AGAP004692-RC  AGAP004692        RC\n",
       "27     AGAP004692-RD  AGAP004692        RD\n",
       "28     AGAP004693-RA  AGAP004693        RA\n",
       "29     AGAP004694-RA  AGAP004694        RA\n",
       "...              ...         ...       ...\n",
       "15682  AGAP001083-RA  AGAP001083        RA\n",
       "15683  AGAP001083-RD  AGAP001083        RD\n",
       "15684  AGAP001083-RB  AGAP001083        RB\n",
       "15685  AGAP001083-RC  AGAP001083        RC\n",
       "15686  AGAP001084-RA  AGAP001084        RA\n",
       "15687  AGAP001085-RA  AGAP001085        RA\n",
       "15688  AGAP013547-RA  AGAP013547        RA\n",
       "15689  AGAP001087-RA  AGAP001087        RA\n",
       "15690  AGAP028971-RA  AGAP028971        RA\n",
       "15691  AGAP028970-RA  AGAP028970        RA\n",
       "15692  AGAP028968-RA  AGAP028968        RA\n",
       "15693  AGAP028976-RA  AGAP028976        RA\n",
       "15694  AGAP028979-RA  AGAP028979        RA\n",
       "15695  AGAP001088-RA  AGAP001088        RA\n",
       "15696  AGAP001089-RA  AGAP001089        RA\n",
       "15697  AGAP013341-RA  AGAP013341        RA\n",
       "15698  AGAP001090-RA  AGAP001090        RA\n",
       "15699  AGAP013312-RA  AGAP013312        RA\n",
       "15700  AGAP001091-RB  AGAP001091        RB\n",
       "15701  AGAP001091-RA  AGAP001091        RA\n",
       "15702  AGAP001092-RA  AGAP001092        RA\n",
       "15703  AGAP001093-RA  AGAP001093        RA\n",
       "15704  AGAP001094-RA  AGAP001094        RA\n",
       "15705  AGAP028966-RA  AGAP028966        RA\n",
       "15706  AGAP028977-RA  AGAP028977        RA\n",
       "15707  AGAP028980-RA  AGAP028980        RA\n",
       "15708  AGAP028967-RA  AGAP028967        RA\n",
       "15709  AGAP028974-RA  AGAP028974        RA\n",
       "15710  AGAP029221-RA  AGAP029221        RA\n",
       "15711  AGAP029375-RA  AGAP029375        RA\n",
       "\n",
       "[15712 rows x 3 columns]"
      ]
     },
     "execution_count": 5,
     "metadata": {},
     "output_type": "execute_result"
    }
   ],
   "source": [
    "t = tlist['transcript_id'].str.rsplit('-', n=1, expand=True)\n",
    "t.columns = ['gene', 'splice_id']\n",
    "tlist = pd.concat((tlist,t), axis=1)\n",
    "tlist"
   ]
  },
  {
   "cell_type": "code",
   "execution_count": null,
   "metadata": {},
   "outputs": [],
   "source": []
  },
  {
   "cell_type": "code",
   "execution_count": 8,
   "metadata": {
    "ExecuteTime": {
     "end_time": "2019-03-22T23:08:39.663666Z",
     "start_time": "2019-03-22T23:08:39.656577Z"
    }
   },
   "outputs": [
    {
     "data": {
      "text/plain": [
       "(13785,)"
      ]
     },
     "execution_count": 8,
     "metadata": {},
     "output_type": "execute_result"
    }
   ],
   "source": [
    "t['gene'].unique().shape"
   ]
  },
  {
   "cell_type": "code",
   "execution_count": null,
   "metadata": {},
   "outputs": [],
   "source": []
  },
  {
   "cell_type": "code",
   "execution_count": null,
   "metadata": {},
   "outputs": [],
   "source": []
  },
  {
   "cell_type": "code",
   "execution_count": 6,
   "metadata": {
    "ExecuteTime": {
     "end_time": "2019-03-20T19:46:33.292230Z",
     "start_time": "2019-03-20T19:46:32.691199Z"
    },
    "scrolled": true
   },
   "outputs": [
    {
     "data": {
      "image/png": "[encoded data removed]",
      "text/plain": [
       "<Figure size 432x288 with 1 Axes>"
      ]
     },
     "metadata": {},
     "output_type": "display_data"
    }
   ],
   "source": [
    "# histogram of number of splice variants by gene\n",
    "t = tlist['gene'].value_counts()\n",
    "fig,ax = plt.subplots()\n",
    "ax.hist(t, bins=np.arange(t.min()-.5,t.max()+1.5), edgecolor='k');\n",
    "ax.set_yscale('log')\n",
    "ax.set_xlim((t.min()-.5, t.max()+.5))\n",
    "ax.xaxis.set_major_locator(mpl.ticker.MaxNLocator(integer=True))\n",
    "ax.set_title('All Genes')\n",
    "ax.set_xlabel('# of splice variants')\n",
    "ax.set_ylabel('# of genes (log scale)')\n",
    "fig.tight_layout()"
   ]
  },
  {
   "cell_type": "code",
   "execution_count": null,
   "metadata": {
    "ExecuteTime": {
     "end_time": "2019-03-15T17:25:12.533397Z",
     "start_time": "2019-03-15T17:25:12.528281Z"
    }
   },
   "outputs": [],
   "source": []
  },
  {
   "cell_type": "code",
   "execution_count": null,
   "metadata": {},
   "outputs": [],
   "source": []
  },
  {
   "cell_type": "code",
   "execution_count": 7,
   "metadata": {
    "ExecuteTime": {
     "end_time": "2019-03-20T19:46:43.089997Z",
     "start_time": "2019-03-20T19:46:33.293309Z"
    }
   },
   "outputs": [
    {
     "name": "stdout",
     "output_type": "stream",
     "text": [
      "/usr/bin/awk -F '\\t' 'BEGIN{OFS=FS}{if(FNR==1){if(NR==FNR){print $0, \"transcript_id\"}}else{print $0, FILENAME}}' AgamP4.11/AGAP*\n"
     ]
    },
    {
     "name": "stderr",
     "output_type": "stream",
     "text": [
      "/home/travc/miniconda3/envs/allel/lib/python3.6/site-packages/numpy/lib/arraysetops.py:569: FutureWarning: elementwise comparison failed; returning scalar instead, but in the future will perform elementwise comparison\n",
      "  mask |= (ar1 == a)\n"
     ]
    }
   ],
   "source": [
    "# use awk to append the transcript_ids and merge all the chopchop outputs\n",
    "# stream than into pandas.read_csv\n",
    "cmd = (\"/usr/bin/awk -F \"+r\"'\\t' \"\n",
    "\"'BEGIN{OFS=FS}{if(FNR==1){if(NR==FNR){print $0, \"+'\"transcript_id\"'+\"}}else{print $0, FILENAME}}' \"+\n",
    "\"{}/{}*\".format(GENOME, GENE_PREFIX))\n",
    "\n",
    "print(cmd)\n",
    "with subprocess.Popen(cmd, cwd=CHOPCHOP_OUT_DIR, shell=True, stdout=subprocess.PIPE) as p:\n",
    "    d_orig = pd.read_csv(p.stdout, sep='\\t', index_col=0)"
   ]
  },
  {
   "cell_type": "code",
   "execution_count": null,
   "metadata": {
    "ExecuteTime": {
     "end_time": "2019-03-20T20:15:33.167597Z",
     "start_time": "2019-03-20T20:15:33.163469Z"
    }
   },
   "outputs": [],
   "source": []
  },
  {
   "cell_type": "code",
   "execution_count": 8,
   "metadata": {
    "ExecuteTime": {
     "end_time": "2019-03-20T19:46:48.581813Z",
     "start_time": "2019-03-20T19:46:43.091330Z"
    }
   },
   "outputs": [
    {
     "name": "stdout",
     "output_type": "stream",
     "text": [
      "14789 of 15712 unique transcript_ids left after flitering\n"
     ]
    }
   ],
   "source": [
    "d = d_orig.copy(deep=True) # so we don't munge the original data\n",
    "d.reset_index(inplace=True)\n",
    "\n",
    "# set the >=555 sort of entries in the MM columns to 999\n",
    "d[\"sumMM\"] = d.loc[:,(\"MM0\",\"MM1\",\"MM2\",\"MM3\")].\\\n",
    "    apply(pd.to_numeric, errors='coerce').fillna(999).sum(axis=1)\n",
    "\n",
    "# filter\n",
    "flt = ((d[\"GC content (%)\"] >= MIN_GC) & \n",
    "      (d[\"GC content (%)\"] <= MAX_GC) &\n",
    "      (d[\"sumMM\"] <= MAX_OFFTARGET_HITS))\n",
    "if True: # apply filter\n",
    "    d = d.loc[flt,:]\n",
    "else:\n",
    "    d['flt'] = flt\n",
    "\n",
    "# add a gene column\n",
    "d['gene'] = d['transcript_id'].str.rsplit('-',1).str.get(0)\n",
    "\n",
    "print(\"{} of {} unique transcript_ids left after flitering\".format( \n",
    "      d['transcript_id'].unique().shape[0],\n",
    "      d_orig['transcript_id'].unique().shape[0]))"
   ]
  },
  {
   "cell_type": "code",
   "execution_count": 9,
   "metadata": {
    "ExecuteTime": {
     "end_time": "2019-03-20T19:46:51.011168Z",
     "start_time": "2019-03-20T19:46:48.583014Z"
    },
    "scrolled": true
   },
   "outputs": [
    {
     "name": "stdout",
     "output_type": "stream",
     "text": [
      "2012 targets hitting more than one gene\n",
      "259 genes affected\n",
      "1204754 unique target+gene combinations\n",
      "920 genes of 13785 with no targets\n"
     ]
    }
   ],
   "source": [
    "# unique target+gene\n",
    "t = d.set_index('Genomic location').loc[:,('Target sequence','gene')]\n",
    "\n",
    "single_target_different_genes = t[t.index.duplicated() & ~t.duplicated()]\n",
    "print(single_target_different_genes.shape[0], \"targets hitting more than one gene\")\n",
    "print(single_target_different_genes['gene'].unique().shape[0], \"genes affected\")\n",
    "\n",
    "# filter to targets which are unique or hit different genes\n",
    "t = t[~t.duplicated(keep='first')]\n",
    "print(t.shape[0], 'unique target+gene combinations')\n",
    "\n",
    "# number of genes with 0 targets\n",
    "total_num_genes = tlist['gene'].unique().shape[0]\n",
    "num_0_target_genes =total_num_genes - t['gene'].unique().shape[0]\n",
    "print(num_0_target_genes, \"genes of\", total_num_genes, \"with no targets\")"
   ]
  },
  {
   "cell_type": "code",
   "execution_count": null,
   "metadata": {
    "ExecuteTime": {
     "end_time": "2019-03-15T22:33:55.544476Z",
     "start_time": "2019-03-15T22:33:55.540885Z"
    }
   },
   "outputs": [],
   "source": []
  },
  {
   "cell_type": "code",
   "execution_count": 10,
   "metadata": {
    "ExecuteTime": {
     "end_time": "2019-03-20T19:46:56.104274Z",
     "start_time": "2019-03-20T19:46:51.012711Z"
    },
    "scrolled": false
   },
   "outputs": [
    {
     "data": {
      "image/png": "[encoded data removed]",
      "text/plain": [
       "<Figure size 432x288 with 1 Axes>"
      ]
     },
     "metadata": {},
     "output_type": "display_data"
    }
   ],
   "source": [
    "cnt = t['gene'].value_counts().values\n",
    "# add entries for genes with 0 targets\n",
    "cnt = np.append(cnt, [0]*num_0_target_genes)\n",
    "\n",
    "# histogram of number of splice variants by gene\n",
    "fig,ax = plt.subplots()\n",
    "ax.hist(cnt, edgecolor='k', bins=cnt.max()+1, align='mid')#, bins=np.arange(cnt.min()-.5,cnt.max()+1.5));\n",
    "ax.set_yscale('log')\n",
    "# ax.set_xlim((-1,10))\n",
    "# ax.set_xlim((cnt.min()-.5, cnt.max()+.5))\n",
    "ax.xaxis.set_major_locator(mpl.ticker.MaxNLocator(integer=True))\n",
    "ax.set_title('{} all genes'.format(GENOME))\n",
    "ax.set_xlabel('# of Cas9 targets ({} have 0 targets)'.format(num_0_target_genes))\n",
    "ax.set_ylabel('# of genes (log scale)')\n",
    "fig.tight_layout()"
   ]
  },
  {
   "cell_type": "code",
   "execution_count": 14,
   "metadata": {
    "ExecuteTime": {
     "end_time": "2019-03-20T19:53:22.468359Z",
     "start_time": "2019-03-20T19:53:21.963422Z"
    },
    "scrolled": false
   },
   "outputs": [
    {
     "data": {
      "image/png": "[encoded data removed]",
      "text/plain": [
       "<Figure size 432x288 with 1 Axes>"
      ]
     },
     "metadata": {},
     "output_type": "display_data"
    }
   ],
   "source": [
    "cnt = t['gene'].value_counts().values\n",
    "# add entries for genes with 0 targets\n",
    "cnt = np.append(cnt, [0]*num_0_target_genes)\n",
    "\n",
    "fig,ax = plt.subplots()\n",
    "\n",
    "# inverse emperical cdf\n",
    "x = np.sort(cnt)\n",
    "y = np.arange(1,len(x)+1)/float(len(x))\n",
    "plt.plot(x, 1-y)\n",
    "\n",
    "ax.set_yscale('log')\n",
    "ax.set_title('AgamP4.11 all genes')\n",
    "ax.set_xlabel('# of Cas9 targets ({:.2f}% have 0 targets)'.format(\n",
    "    100*num_0_target_genes/total_num_genes))\n",
    "ax.set_ylabel('proportion of genes with >= # targets')\n",
    "fig.tight_layout()"
   ]
  },
  {
   "cell_type": "code",
   "execution_count": 12,
   "metadata": {
    "ExecuteTime": {
     "end_time": "2019-03-20T19:46:56.745344Z",
     "start_time": "2019-03-20T19:46:56.629814Z"
    }
   },
   "outputs": [
    {
     "data": {
      "text/plain": [
       "count    13785.000000\n",
       "mean        87.396010\n",
       "std         94.070914\n",
       "min          0.000000\n",
       "25%         29.000000\n",
       "50%         63.000000\n",
       "75%        114.000000\n",
       "max       2042.000000\n",
       "dtype: float64"
      ]
     },
     "execution_count": 12,
     "metadata": {},
     "output_type": "execute_result"
    }
   ],
   "source": [
    "cnt = t['gene'].value_counts().values\n",
    "cnt = np.append(cnt, [0]*num_0_target_genes)\n",
    "cnt = pd.Series(cnt)\n",
    "cnt.describe()"
   ]
  },
  {
   "cell_type": "code",
   "execution_count": null,
   "metadata": {
    "ExecuteTime": {
     "end_time": "2019-03-15T22:52:07.315392Z",
     "start_time": "2019-03-15T22:52:07.310567Z"
    }
   },
   "outputs": [],
   "source": []
  },
  {
   "cell_type": "code",
   "execution_count": null,
   "metadata": {},
   "outputs": [],
   "source": []
  }
 ],
 "metadata": {
  "kernelspec": {
   "display_name": "Python 3",
   "language": "python",
   "name": "python3"
  },
  "language_info": {
   "codemirror_mode": {
    "name": "ipython",
    "version": 3
   },
   "file_extension": ".py",
   "mimetype": "text/x-python",
   "name": "python",
   "nbconvert_exporter": "python",
   "pygments_lexer": "ipython3",
   "version": "3.6.7"
  }
 },
 "nbformat": 4,
 "nbformat_minor": 2
}
