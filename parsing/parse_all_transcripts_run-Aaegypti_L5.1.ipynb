{
 "cells": [
  {
   "cell_type": "code",
   "execution_count": 1,
   "metadata": {
    "ExecuteTime": {
     "end_time": "2019-03-20T19:46:29.545489Z",
     "start_time": "2019-03-20T19:46:29.239055Z"
    }
   },
   "outputs": [],
   "source": [
    "import sys\n",
    "import os\n",
    "import numpy as np\n",
    "import pandas as pd\n",
    "\n",
    "import subprocess\n",
    "\n",
    "import matplotlib as mpl\n",
    "import matplotlib.pyplot as plt\n",
    "\n",
    "from IPython.display import display\n",
    "from ipywidgets import IntProgress"
   ]
  },
  {
   "cell_type": "code",
   "execution_count": 2,
   "metadata": {
    "ExecuteTime": {
     "end_time": "2019-03-20T19:46:29.549056Z",
     "start_time": "2019-03-20T19:46:29.546809Z"
    },
    "scrolled": true
   },
   "outputs": [
    {
     "name": "stdout",
     "output_type": "stream",
     "text": [
      "3.6.7 | packaged by conda-forge | (default, Feb 28 2019, 09:07:38) \n",
      "[GCC 7.3.0]\n"
     ]
    }
   ],
   "source": [
    "print(sys.version)\n",
    "mpl.rcParams['figure.facecolor'] = '#BBBBBB'\n"
   ]
  },
  {
   "cell_type": "code",
   "execution_count": 3,
   "metadata": {
    "ExecuteTime": {
     "end_time": "2019-03-20T19:46:29.554574Z",
     "start_time": "2019-03-20T19:46:29.551192Z"
    }
   },
   "outputs": [],
   "source": [
    "GENOME = \"Aaegypti_L5.1\"\n",
    "GENE_PREFIX = \"AAEL\"\n",
    "\n",
    "TRANSFN = \"../datafiles/transcript_list_{}\".format(GENOME)\n",
    "CHOPCHOP_OUT_DIR = \"../all_transcripts_run/\".format(GENOME)\n",
    "\n",
    "MIN_GC = 30 # minimum allowable GC percentage (inclusive)\n",
    "MAX_GC = 70 # maximum allowable GC percentage (inclusive)\n",
    "MAX_OFFTARGET_HITS = 0 # maximum allowable total offtarget hits"
   ]
  },
  {
   "cell_type": "code",
   "execution_count": null,
   "metadata": {},
   "outputs": [],
   "source": []
  },
  {
   "cell_type": "code",
   "execution_count": 4,
   "metadata": {
    "ExecuteTime": {
     "end_time": "2019-03-20T19:46:29.576507Z",
     "start_time": "2019-03-20T19:46:29.555597Z"
    }
   },
   "outputs": [],
   "source": [
    "tlist = pd.read_csv(TRANSFN, header=None, names=['transcript_id'])"
   ]
  },
  {
   "cell_type": "code",
   "execution_count": 5,
   "metadata": {
    "ExecuteTime": {
     "end_time": "2019-03-20T19:46:29.655673Z",
     "start_time": "2019-03-20T19:46:29.577554Z"
    },
    "scrolled": true
   },
   "outputs": [
    {
     "data": {
      "text/html": [
       "<div>\n",
       "<style scoped>\n",
       "    .dataframe tbody tr th:only-of-type {\n",
       "        vertical-align: middle;\n",
       "    }\n",
       "\n",
       "    .dataframe tbody tr th {\n",
       "        vertical-align: top;\n",
       "    }\n",
       "\n",
       "    .dataframe thead th {\n",
       "        text-align: right;\n",
       "    }\n",
       "</style>\n",
       "<table border=\"1\" class=\"dataframe\">\n",
       "  <thead>\n",
       "    <tr style=\"text-align: right;\">\n",
       "      <th></th>\n",
       "      <th>transcript_id</th>\n",
       "      <th>gene</th>\n",
       "      <th>splice_id</th>\n",
       "    </tr>\n",
       "  </thead>\n",
       "  <tbody>\n",
       "    <tr>\n",
       "      <th>0</th>\n",
       "      <td>AAEL020532-RA</td>\n",
       "      <td>AAEL020532</td>\n",
       "      <td>RA</td>\n",
       "    </tr>\n",
       "    <tr>\n",
       "      <th>1</th>\n",
       "      <td>AAEL027741-RA</td>\n",
       "      <td>AAEL027741</td>\n",
       "      <td>RA</td>\n",
       "    </tr>\n",
       "    <tr>\n",
       "      <th>2</th>\n",
       "      <td>AAEL012102-RB</td>\n",
       "      <td>AAEL012102</td>\n",
       "      <td>RB</td>\n",
       "    </tr>\n",
       "    <tr>\n",
       "      <th>3</th>\n",
       "      <td>AAEL012102-RA</td>\n",
       "      <td>AAEL012102</td>\n",
       "      <td>RA</td>\n",
       "    </tr>\n",
       "    <tr>\n",
       "      <th>4</th>\n",
       "      <td>AAEL012106-RD</td>\n",
       "      <td>AAEL012106</td>\n",
       "      <td>RD</td>\n",
       "    </tr>\n",
       "    <tr>\n",
       "      <th>5</th>\n",
       "      <td>AAEL012106-RA</td>\n",
       "      <td>AAEL012106</td>\n",
       "      <td>RA</td>\n",
       "    </tr>\n",
       "    <tr>\n",
       "      <th>6</th>\n",
       "      <td>AAEL012106-RH</td>\n",
       "      <td>AAEL012106</td>\n",
       "      <td>RH</td>\n",
       "    </tr>\n",
       "    <tr>\n",
       "      <th>7</th>\n",
       "      <td>AAEL012106-RG</td>\n",
       "      <td>AAEL012106</td>\n",
       "      <td>RG</td>\n",
       "    </tr>\n",
       "    <tr>\n",
       "      <th>8</th>\n",
       "      <td>AAEL012106-RF</td>\n",
       "      <td>AAEL012106</td>\n",
       "      <td>RF</td>\n",
       "    </tr>\n",
       "    <tr>\n",
       "      <th>9</th>\n",
       "      <td>AAEL012106-RE</td>\n",
       "      <td>AAEL012106</td>\n",
       "      <td>RE</td>\n",
       "    </tr>\n",
       "    <tr>\n",
       "      <th>10</th>\n",
       "      <td>AAEL012106-RI</td>\n",
       "      <td>AAEL012106</td>\n",
       "      <td>RI</td>\n",
       "    </tr>\n",
       "    <tr>\n",
       "      <th>11</th>\n",
       "      <td>AAEL012106-RC</td>\n",
       "      <td>AAEL012106</td>\n",
       "      <td>RC</td>\n",
       "    </tr>\n",
       "    <tr>\n",
       "      <th>12</th>\n",
       "      <td>AAEL012106-RB</td>\n",
       "      <td>AAEL012106</td>\n",
       "      <td>RB</td>\n",
       "    </tr>\n",
       "    <tr>\n",
       "      <th>13</th>\n",
       "      <td>AAEL012094-RA</td>\n",
       "      <td>AAEL012094</td>\n",
       "      <td>RA</td>\n",
       "    </tr>\n",
       "    <tr>\n",
       "      <th>14</th>\n",
       "      <td>AAEL021681-RA</td>\n",
       "      <td>AAEL021681</td>\n",
       "      <td>RA</td>\n",
       "    </tr>\n",
       "    <tr>\n",
       "      <th>15</th>\n",
       "      <td>AAEL012098-RC</td>\n",
       "      <td>AAEL012098</td>\n",
       "      <td>RC</td>\n",
       "    </tr>\n",
       "    <tr>\n",
       "      <th>16</th>\n",
       "      <td>AAEL012098-RD</td>\n",
       "      <td>AAEL012098</td>\n",
       "      <td>RD</td>\n",
       "    </tr>\n",
       "    <tr>\n",
       "      <th>17</th>\n",
       "      <td>AAEL012098-RE</td>\n",
       "      <td>AAEL012098</td>\n",
       "      <td>RE</td>\n",
       "    </tr>\n",
       "    <tr>\n",
       "      <th>18</th>\n",
       "      <td>AAEL012109-RB</td>\n",
       "      <td>AAEL012109</td>\n",
       "      <td>RB</td>\n",
       "    </tr>\n",
       "    <tr>\n",
       "      <th>19</th>\n",
       "      <td>AAEL012104-RB</td>\n",
       "      <td>AAEL012104</td>\n",
       "      <td>RB</td>\n",
       "    </tr>\n",
       "    <tr>\n",
       "      <th>20</th>\n",
       "      <td>AAEL012104-RC</td>\n",
       "      <td>AAEL012104</td>\n",
       "      <td>RC</td>\n",
       "    </tr>\n",
       "    <tr>\n",
       "      <th>21</th>\n",
       "      <td>AAEL026799-RA</td>\n",
       "      <td>AAEL026799</td>\n",
       "      <td>RA</td>\n",
       "    </tr>\n",
       "    <tr>\n",
       "      <th>22</th>\n",
       "      <td>AAEL012103-RB</td>\n",
       "      <td>AAEL012103</td>\n",
       "      <td>RB</td>\n",
       "    </tr>\n",
       "    <tr>\n",
       "      <th>23</th>\n",
       "      <td>AAEL012103-RA</td>\n",
       "      <td>AAEL012103</td>\n",
       "      <td>RA</td>\n",
       "    </tr>\n",
       "    <tr>\n",
       "      <th>24</th>\n",
       "      <td>AAEL012103-RC</td>\n",
       "      <td>AAEL012103</td>\n",
       "      <td>RC</td>\n",
       "    </tr>\n",
       "    <tr>\n",
       "      <th>25</th>\n",
       "      <td>AAEL017167-RB</td>\n",
       "      <td>AAEL017167</td>\n",
       "      <td>RB</td>\n",
       "    </tr>\n",
       "    <tr>\n",
       "      <th>26</th>\n",
       "      <td>AAEL012110-RB</td>\n",
       "      <td>AAEL012110</td>\n",
       "      <td>RB</td>\n",
       "    </tr>\n",
       "    <tr>\n",
       "      <th>27</th>\n",
       "      <td>AAEL012110-RA</td>\n",
       "      <td>AAEL012110</td>\n",
       "      <td>RA</td>\n",
       "    </tr>\n",
       "    <tr>\n",
       "      <th>28</th>\n",
       "      <td>AAEL012101-RB</td>\n",
       "      <td>AAEL012101</td>\n",
       "      <td>RB</td>\n",
       "    </tr>\n",
       "    <tr>\n",
       "      <th>29</th>\n",
       "      <td>AAEL012107-RA</td>\n",
       "      <td>AAEL012107</td>\n",
       "      <td>RA</td>\n",
       "    </tr>\n",
       "    <tr>\n",
       "      <th>...</th>\n",
       "      <td>...</td>\n",
       "      <td>...</td>\n",
       "      <td>...</td>\n",
       "    </tr>\n",
       "    <tr>\n",
       "      <th>32464</th>\n",
       "      <td>AAEL010308-RB</td>\n",
       "      <td>AAEL010308</td>\n",
       "      <td>RB</td>\n",
       "    </tr>\n",
       "    <tr>\n",
       "      <th>32465</th>\n",
       "      <td>AAEL010299-RD</td>\n",
       "      <td>AAEL010299</td>\n",
       "      <td>RD</td>\n",
       "    </tr>\n",
       "    <tr>\n",
       "      <th>32466</th>\n",
       "      <td>AAEL010299-RC</td>\n",
       "      <td>AAEL010299</td>\n",
       "      <td>RC</td>\n",
       "    </tr>\n",
       "    <tr>\n",
       "      <th>32467</th>\n",
       "      <td>AAEL010315-RB</td>\n",
       "      <td>AAEL010315</td>\n",
       "      <td>RB</td>\n",
       "    </tr>\n",
       "    <tr>\n",
       "      <th>32468</th>\n",
       "      <td>AAEL010316-RA</td>\n",
       "      <td>AAEL010316</td>\n",
       "      <td>RA</td>\n",
       "    </tr>\n",
       "    <tr>\n",
       "      <th>32469</th>\n",
       "      <td>AAEL010306-RA</td>\n",
       "      <td>AAEL010306</td>\n",
       "      <td>RA</td>\n",
       "    </tr>\n",
       "    <tr>\n",
       "      <th>32470</th>\n",
       "      <td>AAEL010321-RA</td>\n",
       "      <td>AAEL010321</td>\n",
       "      <td>RA</td>\n",
       "    </tr>\n",
       "    <tr>\n",
       "      <th>32471</th>\n",
       "      <td>AAEL010300-RB</td>\n",
       "      <td>AAEL010300</td>\n",
       "      <td>RB</td>\n",
       "    </tr>\n",
       "    <tr>\n",
       "      <th>32472</th>\n",
       "      <td>AAEL010300-RA</td>\n",
       "      <td>AAEL010300</td>\n",
       "      <td>RA</td>\n",
       "    </tr>\n",
       "    <tr>\n",
       "      <th>32473</th>\n",
       "      <td>AAEL010317-RA</td>\n",
       "      <td>AAEL010317</td>\n",
       "      <td>RA</td>\n",
       "    </tr>\n",
       "    <tr>\n",
       "      <th>32474</th>\n",
       "      <td>AAEL019713-RB</td>\n",
       "      <td>AAEL019713</td>\n",
       "      <td>RB</td>\n",
       "    </tr>\n",
       "    <tr>\n",
       "      <th>32475</th>\n",
       "      <td>AAEL019713-RC</td>\n",
       "      <td>AAEL019713</td>\n",
       "      <td>RC</td>\n",
       "    </tr>\n",
       "    <tr>\n",
       "      <th>32476</th>\n",
       "      <td>AAEL019713-RD</td>\n",
       "      <td>AAEL019713</td>\n",
       "      <td>RD</td>\n",
       "    </tr>\n",
       "    <tr>\n",
       "      <th>32477</th>\n",
       "      <td>AAEL019713-RF</td>\n",
       "      <td>AAEL019713</td>\n",
       "      <td>RF</td>\n",
       "    </tr>\n",
       "    <tr>\n",
       "      <th>32478</th>\n",
       "      <td>AAEL019713-RG</td>\n",
       "      <td>AAEL019713</td>\n",
       "      <td>RG</td>\n",
       "    </tr>\n",
       "    <tr>\n",
       "      <th>32479</th>\n",
       "      <td>AAEL019713-RH</td>\n",
       "      <td>AAEL019713</td>\n",
       "      <td>RH</td>\n",
       "    </tr>\n",
       "    <tr>\n",
       "      <th>32480</th>\n",
       "      <td>AAEL019713-RA</td>\n",
       "      <td>AAEL019713</td>\n",
       "      <td>RA</td>\n",
       "    </tr>\n",
       "    <tr>\n",
       "      <th>32481</th>\n",
       "      <td>AAEL019713-RE</td>\n",
       "      <td>AAEL019713</td>\n",
       "      <td>RE</td>\n",
       "    </tr>\n",
       "    <tr>\n",
       "      <th>32482</th>\n",
       "      <td>AAEL010314-RA</td>\n",
       "      <td>AAEL010314</td>\n",
       "      <td>RA</td>\n",
       "    </tr>\n",
       "    <tr>\n",
       "      <th>32483</th>\n",
       "      <td>AAEL020234-RA</td>\n",
       "      <td>AAEL020234</td>\n",
       "      <td>RA</td>\n",
       "    </tr>\n",
       "    <tr>\n",
       "      <th>32484</th>\n",
       "      <td>AAEL024539-RA</td>\n",
       "      <td>AAEL024539</td>\n",
       "      <td>RA</td>\n",
       "    </tr>\n",
       "    <tr>\n",
       "      <th>32485</th>\n",
       "      <td>AAEL026520-RA</td>\n",
       "      <td>AAEL026520</td>\n",
       "      <td>RA</td>\n",
       "    </tr>\n",
       "    <tr>\n",
       "      <th>32486</th>\n",
       "      <td>AAEL010310-RB</td>\n",
       "      <td>AAEL010310</td>\n",
       "      <td>RB</td>\n",
       "    </tr>\n",
       "    <tr>\n",
       "      <th>32487</th>\n",
       "      <td>AAEL010310-RC</td>\n",
       "      <td>AAEL010310</td>\n",
       "      <td>RC</td>\n",
       "    </tr>\n",
       "    <tr>\n",
       "      <th>32488</th>\n",
       "      <td>AAEL010310-RD</td>\n",
       "      <td>AAEL010310</td>\n",
       "      <td>RD</td>\n",
       "    </tr>\n",
       "    <tr>\n",
       "      <th>32489</th>\n",
       "      <td>AAEL024150-RA</td>\n",
       "      <td>AAEL024150</td>\n",
       "      <td>RA</td>\n",
       "    </tr>\n",
       "    <tr>\n",
       "      <th>32490</th>\n",
       "      <td>AAEL010311-RA</td>\n",
       "      <td>AAEL010311</td>\n",
       "      <td>RA</td>\n",
       "    </tr>\n",
       "    <tr>\n",
       "      <th>32491</th>\n",
       "      <td>AAEL010311-RB</td>\n",
       "      <td>AAEL010311</td>\n",
       "      <td>RB</td>\n",
       "    </tr>\n",
       "    <tr>\n",
       "      <th>32492</th>\n",
       "      <td>AAEL024127-RA</td>\n",
       "      <td>AAEL024127</td>\n",
       "      <td>RA</td>\n",
       "    </tr>\n",
       "    <tr>\n",
       "      <th>32493</th>\n",
       "      <td>AAEL010318-RA</td>\n",
       "      <td>AAEL010318</td>\n",
       "      <td>RA</td>\n",
       "    </tr>\n",
       "  </tbody>\n",
       "</table>\n",
       "<p>32494 rows × 3 columns</p>\n",
       "</div>"
      ],
      "text/plain": [
       "       transcript_id        gene splice_id\n",
       "0      AAEL020532-RA  AAEL020532        RA\n",
       "1      AAEL027741-RA  AAEL027741        RA\n",
       "2      AAEL012102-RB  AAEL012102        RB\n",
       "3      AAEL012102-RA  AAEL012102        RA\n",
       "4      AAEL012106-RD  AAEL012106        RD\n",
       "5      AAEL012106-RA  AAEL012106        RA\n",
       "6      AAEL012106-RH  AAEL012106        RH\n",
       "7      AAEL012106-RG  AAEL012106        RG\n",
       "8      AAEL012106-RF  AAEL012106        RF\n",
       "9      AAEL012106-RE  AAEL012106        RE\n",
       "10     AAEL012106-RI  AAEL012106        RI\n",
       "11     AAEL012106-RC  AAEL012106        RC\n",
       "12     AAEL012106-RB  AAEL012106        RB\n",
       "13     AAEL012094-RA  AAEL012094        RA\n",
       "14     AAEL021681-RA  AAEL021681        RA\n",
       "15     AAEL012098-RC  AAEL012098        RC\n",
       "16     AAEL012098-RD  AAEL012098        RD\n",
       "17     AAEL012098-RE  AAEL012098        RE\n",
       "18     AAEL012109-RB  AAEL012109        RB\n",
       "19     AAEL012104-RB  AAEL012104        RB\n",
       "20     AAEL012104-RC  AAEL012104        RC\n",
       "21     AAEL026799-RA  AAEL026799        RA\n",
       "22     AAEL012103-RB  AAEL012103        RB\n",
       "23     AAEL012103-RA  AAEL012103        RA\n",
       "24     AAEL012103-RC  AAEL012103        RC\n",
       "25     AAEL017167-RB  AAEL017167        RB\n",
       "26     AAEL012110-RB  AAEL012110        RB\n",
       "27     AAEL012110-RA  AAEL012110        RA\n",
       "28     AAEL012101-RB  AAEL012101        RB\n",
       "29     AAEL012107-RA  AAEL012107        RA\n",
       "...              ...         ...       ...\n",
       "32464  AAEL010308-RB  AAEL010308        RB\n",
       "32465  AAEL010299-RD  AAEL010299        RD\n",
       "32466  AAEL010299-RC  AAEL010299        RC\n",
       "32467  AAEL010315-RB  AAEL010315        RB\n",
       "32468  AAEL010316-RA  AAEL010316        RA\n",
       "32469  AAEL010306-RA  AAEL010306        RA\n",
       "32470  AAEL010321-RA  AAEL010321        RA\n",
       "32471  AAEL010300-RB  AAEL010300        RB\n",
       "32472  AAEL010300-RA  AAEL010300        RA\n",
       "32473  AAEL010317-RA  AAEL010317        RA\n",
       "32474  AAEL019713-RB  AAEL019713        RB\n",
       "32475  AAEL019713-RC  AAEL019713        RC\n",
       "32476  AAEL019713-RD  AAEL019713        RD\n",
       "32477  AAEL019713-RF  AAEL019713        RF\n",
       "32478  AAEL019713-RG  AAEL019713        RG\n",
       "32479  AAEL019713-RH  AAEL019713        RH\n",
       "32480  AAEL019713-RA  AAEL019713        RA\n",
       "32481  AAEL019713-RE  AAEL019713        RE\n",
       "32482  AAEL010314-RA  AAEL010314        RA\n",
       "32483  AAEL020234-RA  AAEL020234        RA\n",
       "32484  AAEL024539-RA  AAEL024539        RA\n",
       "32485  AAEL026520-RA  AAEL026520        RA\n",
       "32486  AAEL010310-RB  AAEL010310        RB\n",
       "32487  AAEL010310-RC  AAEL010310        RC\n",
       "32488  AAEL010310-RD  AAEL010310        RD\n",
       "32489  AAEL024150-RA  AAEL024150        RA\n",
       "32490  AAEL010311-RA  AAEL010311        RA\n",
       "32491  AAEL010311-RB  AAEL010311        RB\n",
       "32492  AAEL024127-RA  AAEL024127        RA\n",
       "32493  AAEL010318-RA  AAEL010318        RA\n",
       "\n",
       "[32494 rows x 3 columns]"
      ]
     },
     "execution_count": 5,
     "metadata": {},
     "output_type": "execute_result"
    }
   ],
   "source": [
    "t = tlist['transcript_id'].str.rsplit('-', n=1, expand=True)\n",
    "t.columns = ['gene', 'splice_id']\n",
    "tlist = pd.concat((tlist,t), axis=1)\n",
    "tlist"
   ]
  },
  {
   "cell_type": "code",
   "execution_count": 6,
   "metadata": {
    "ExecuteTime": {
     "end_time": "2019-03-20T19:46:30.375301Z",
     "start_time": "2019-03-20T19:46:29.657165Z"
    },
    "scrolled": true
   },
   "outputs": [
    {
     "data": {
      "image/png": "[encoded data removed]",
      "text/plain": [
       "<Figure size 432x288 with 1 Axes>"
      ]
     },
     "metadata": {},
     "output_type": "display_data"
    }
   ],
   "source": [
    "# histogram of number of splice variants by gene\n",
    "t = tlist['gene'].value_counts()\n",
    "fig,ax = plt.subplots()\n",
    "ax.hist(t, bins=np.arange(t.min()-.5,t.max()+1.5), edgecolor='k');\n",
    "ax.set_yscale('log')\n",
    "ax.set_xlim((t.min()-.5, t.max()+.5))\n",
    "ax.xaxis.set_major_locator(mpl.ticker.MaxNLocator(integer=True))\n",
    "ax.set_title('All Genes')\n",
    "ax.set_xlabel('# of splice variants')\n",
    "ax.set_ylabel('# of genes (log scale)')\n",
    "fig.tight_layout()"
   ]
  },
  {
   "cell_type": "code",
   "execution_count": null,
   "metadata": {},
   "outputs": [],
   "source": []
  },
  {
   "cell_type": "code",
   "execution_count": 7,
   "metadata": {
    "ExecuteTime": {
     "end_time": "2019-03-20T19:46:48.614493Z",
     "start_time": "2019-03-20T19:46:30.377531Z"
    }
   },
   "outputs": [
    {
     "name": "stdout",
     "output_type": "stream",
     "text": [
      "/usr/bin/awk -F '\\t' 'BEGIN{OFS=FS}{if(FNR==1){if(NR==FNR){print $0, \"transcript_id\"}}else{print $0, FILENAME}}' Aaegypti_L5.1/AAEL*\n"
     ]
    },
    {
     "name": "stderr",
     "output_type": "stream",
     "text": [
      "/home/travc/miniconda3/envs/allel/lib/python3.6/site-packages/numpy/lib/arraysetops.py:569: FutureWarning: elementwise comparison failed; returning scalar instead, but in the future will perform elementwise comparison\n",
      "  mask |= (ar1 == a)\n"
     ]
    }
   ],
   "source": [
    "# use awk to append the transcript_ids and merge all the chopchop outputs\n",
    "# stream than into pandas.read_csv\n",
    "cmd = (\"/usr/bin/awk -F \"+r\"'\\t' \"\n",
    "\"'BEGIN{OFS=FS}{if(FNR==1){if(NR==FNR){print $0, \"+'\"transcript_id\"'+\"}}else{print $0, FILENAME}}' \"+\n",
    "\"{}/{}*\".format(GENOME, GENE_PREFIX))\n",
    "\n",
    "print(cmd)\n",
    "with subprocess.Popen(cmd, cwd=CHOPCHOP_OUT_DIR, shell=True, stdout=subprocess.PIPE) as p:\n",
    "    d_orig = pd.read_csv(p.stdout, sep='\\t', index_col=0)"
   ]
  },
  {
   "cell_type": "code",
   "execution_count": null,
   "metadata": {
    "ExecuteTime": {
     "end_time": "2019-03-20T19:46:20.297953Z",
     "start_time": "2019-03-20T19:46:20.293690Z"
    }
   },
   "outputs": [],
   "source": []
  },
  {
   "cell_type": "code",
   "execution_count": 8,
   "metadata": {
    "ExecuteTime": {
     "end_time": "2019-03-20T19:46:59.248111Z",
     "start_time": "2019-03-20T19:46:48.615977Z"
    }
   },
   "outputs": [
    {
     "name": "stdout",
     "output_type": "stream",
     "text": [
      "28371 of 32490 unique transcript_ids left after flitering\n"
     ]
    }
   ],
   "source": [
    "d = d_orig.copy(deep=True) # so we don't munge the original data\n",
    "d.reset_index(inplace=True)\n",
    "\n",
    "# set the >=555 sort of entries in the MM columns to 999\n",
    "d[\"sumMM\"] = d.loc[:,(\"MM0\",\"MM1\",\"MM2\",\"MM3\")].\\\n",
    "    apply(pd.to_numeric, errors='coerce').fillna(999).sum(axis=1)\n",
    "\n",
    "# filter\n",
    "flt = ((d[\"GC content (%)\"] >= MIN_GC) & \n",
    "      (d[\"GC content (%)\"] <= MAX_GC) &\n",
    "      (d[\"sumMM\"] <= MAX_OFFTARGET_HITS))\n",
    "if True: # apply filter\n",
    "    d = d.loc[flt,:]\n",
    "else:\n",
    "    d['flt'] = flt\n",
    "\n",
    "# add a gene column\n",
    "d['gene'] = d['transcript_id'].str.rsplit('-',1).str.get(0)\n",
    "\n",
    "print(\"{} of {} unique transcript_ids left after flitering\".format( \n",
    "      d['transcript_id'].unique().shape[0],\n",
    "      d_orig['transcript_id'].unique().shape[0]))"
   ]
  },
  {
   "cell_type": "code",
   "execution_count": 9,
   "metadata": {
    "ExecuteTime": {
     "end_time": "2019-03-20T19:47:01.689900Z",
     "start_time": "2019-03-20T19:46:59.250016Z"
    },
    "scrolled": true
   },
   "outputs": [
    {
     "name": "stdout",
     "output_type": "stream",
     "text": [
      "2591 targets hitting more than one gene\n",
      "405 genes affected\n",
      "846931 unique target+gene combinations\n",
      "3690 genes of 18081 with no targets\n"
     ]
    }
   ],
   "source": [
    "# unique target+gene\n",
    "t = d.set_index('Genomic location').loc[:,('Target sequence','gene')]\n",
    "\n",
    "single_target_different_genes = t[t.index.duplicated() & ~t.duplicated()]\n",
    "print(single_target_different_genes.shape[0], \"targets hitting more than one gene\")\n",
    "print(single_target_different_genes['gene'].unique().shape[0], \"genes affected\")\n",
    "\n",
    "# filter to targets which are unique or hit different genes\n",
    "t = t[~t.duplicated(keep='first')]\n",
    "print(t.shape[0], 'unique target+gene combinations')\n",
    "\n",
    "# number of genes with 0 targets\n",
    "total_num_genes = tlist['gene'].unique().shape[0]\n",
    "num_0_target_genes =total_num_genes - t['gene'].unique().shape[0]\n",
    "print(num_0_target_genes, \"genes of\", total_num_genes, \"with no targets\")"
   ]
  },
  {
   "cell_type": "code",
   "execution_count": null,
   "metadata": {
    "ExecuteTime": {
     "end_time": "2019-03-15T22:33:55.544476Z",
     "start_time": "2019-03-15T22:33:55.540885Z"
    }
   },
   "outputs": [],
   "source": []
  },
  {
   "cell_type": "code",
   "execution_count": 10,
   "metadata": {
    "ExecuteTime": {
     "end_time": "2019-03-20T19:47:04.480913Z",
     "start_time": "2019-03-20T19:47:01.690979Z"
    },
    "scrolled": false
   },
   "outputs": [
    {
     "data": {
      "image/png": "[encoded data removed]",
      "text/plain": [
       "<Figure size 432x288 with 1 Axes>"
      ]
     },
     "metadata": {},
     "output_type": "display_data"
    }
   ],
   "source": [
    "cnt = t['gene'].value_counts().values\n",
    "# add entries for genes with 0 targets\n",
    "cnt = np.append(cnt, [0]*num_0_target_genes)\n",
    "\n",
    "# histogram of number of splice variants by gene\n",
    "fig,ax = plt.subplots()\n",
    "ax.hist(cnt, edgecolor='k', bins=cnt.max()+1, align='mid')#, bins=np.arange(cnt.min()-.5,cnt.max()+1.5));\n",
    "ax.set_yscale('log')\n",
    "# ax.set_xlim((-1,10))\n",
    "# ax.set_xlim((cnt.min()-.5, cnt.max()+.5))\n",
    "ax.xaxis.set_major_locator(mpl.ticker.MaxNLocator(integer=True))\n",
    "ax.set_title('{} all genes'.format(GENOME))\n",
    "ax.set_xlabel('# of Cas9 targets ({} have 0 targets)'.format(num_0_target_genes))\n",
    "ax.set_ylabel('# of genes (log scale)')\n",
    "fig.tight_layout()"
   ]
  },
  {
   "cell_type": "code",
   "execution_count": 14,
   "metadata": {
    "ExecuteTime": {
     "end_time": "2019-03-20T19:53:24.436896Z",
     "start_time": "2019-03-20T19:53:23.987063Z"
    },
    "scrolled": false
   },
   "outputs": [
    {
     "data": {
      "image/png": "[encoded data removed]",
      "text/plain": [
       "<Figure size 432x288 with 1 Axes>"
      ]
     },
     "metadata": {},
     "output_type": "display_data"
    }
   ],
   "source": [
    "cnt = t['gene'].value_counts().values\n",
    "# add entries for genes with 0 targets\n",
    "cnt = np.append(cnt, [0]*num_0_target_genes)\n",
    "\n",
    "fig,ax = plt.subplots()\n",
    "\n",
    "# inverse emperical cdf\n",
    "x = np.sort(cnt)\n",
    "y = np.arange(1,len(x)+1)/float(len(x))\n",
    "plt.plot(x, 1-y)\n",
    "\n",
    "ax.set_yscale('log')\n",
    "ax.set_title('AgamP4.11 all genes')\n",
    "ax.set_xlabel('# of Cas9 targets ({:.2f}% have 0 targets)'.format(\n",
    "    100*num_0_target_genes/total_num_genes))\n",
    "ax.set_ylabel('proportion of genes with >= # targets')\n",
    "fig.tight_layout()"
   ]
  },
  {
   "cell_type": "code",
   "execution_count": 12,
   "metadata": {
    "ExecuteTime": {
     "end_time": "2019-03-20T19:47:05.024001Z",
     "start_time": "2019-03-20T19:47:04.924551Z"
    }
   },
   "outputs": [
    {
     "data": {
      "text/plain": [
       "count    18081.000000\n",
       "mean        46.840938\n",
       "std         62.630238\n",
       "min          0.000000\n",
       "25%          2.000000\n",
       "50%         28.000000\n",
       "75%         65.000000\n",
       "max       1059.000000\n",
       "dtype: float64"
      ]
     },
     "execution_count": 12,
     "metadata": {},
     "output_type": "execute_result"
    }
   ],
   "source": [
    "cnt = t['gene'].value_counts().values\n",
    "cnt = np.append(cnt, [0]*num_0_target_genes)\n",
    "cnt = pd.Series(cnt)\n",
    "cnt.describe()"
   ]
  },
  {
   "cell_type": "code",
   "execution_count": null,
   "metadata": {
    "ExecuteTime": {
     "end_time": "2019-03-15T22:52:07.315392Z",
     "start_time": "2019-03-15T22:52:07.310567Z"
    }
   },
   "outputs": [],
   "source": []
  },
  {
   "cell_type": "code",
   "execution_count": null,
   "metadata": {},
   "outputs": [],
   "source": []
  },
  {
   "cell_type": "code",
   "execution_count": null,
   "metadata": {},
   "outputs": [],
   "source": []
  }
 ],
 "metadata": {
  "kernelspec": {
   "display_name": "Python 3",
   "language": "python",
   "name": "python3"
  },
  "language_info": {
   "codemirror_mode": {
    "name": "ipython",
    "version": 3
   },
   "file_extension": ".py",
   "mimetype": "text/x-python",
   "name": "python",
   "nbconvert_exporter": "python",
   "pygments_lexer": "ipython3",
   "version": "3.6.8"
  }
 },
 "nbformat": 4,
 "nbformat_minor": 2
}
